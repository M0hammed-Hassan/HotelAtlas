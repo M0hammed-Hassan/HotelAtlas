{
 "cells": [
  {
   "cell_type": "markdown",
   "id": "cba002e9",
   "metadata": {},
   "source": [
    "# Notebook Contents\n",
    "- Importing The Dependencies\n",
    "- Loading The Dataset\n",
    "- Split Dataset\n",
    "- Data Scaling\n",
    "- Random Forest Algorithm\n",
    "- SVM Algorithm\n",
    "- Conclusion"
   ]
  },
  {
   "cell_type": "markdown",
   "id": "4ed9d0a3",
   "metadata": {},
   "source": [
    "### Importing The Dependencies\n"
   ]
  },
  {
   "cell_type": "code",
   "execution_count": 1,
   "id": "78ea3b27",
   "metadata": {},
   "outputs": [],
   "source": [
    "import os\n",
    "import sys\n",
    "import pandas as pd\n",
    "from sklearn.svm import SVC\n",
    "from sklearn.preprocessing import StandardScaler\n",
    "from sklearn.ensemble import RandomForestClassifier\n",
    "from sklearn.model_selection import train_test_split\n",
    "\n",
    "sys.path.append(os.path.abspath(\"../\"))\n",
    "from assets.utils import applyStandardScaler\n",
    "from assets.configs import ClassificationModelsHyperparameters"
   ]
  },
  {
   "cell_type": "markdown",
   "id": "b34aceca",
   "metadata": {},
   "source": [
    "### Load The Dataset"
   ]
  },
  {
   "cell_type": "code",
   "execution_count": 2,
   "id": "be724ad3",
   "metadata": {},
   "outputs": [],
   "source": [
    "df = pd.read_excel(\"../datasets/segmented_customers_dataset.xlsx\").drop(columns=[\"Unnamed: 0\"])"
   ]
  },
  {
   "cell_type": "code",
   "execution_count": 3,
   "id": "e1e596bb",
   "metadata": {},
   "outputs": [
    {
     "data": {
      "text/html": [
       "<div>\n",
       "<style scoped>\n",
       "    .dataframe tbody tr th:only-of-type {\n",
       "        vertical-align: middle;\n",
       "    }\n",
       "\n",
       "    .dataframe tbody tr th {\n",
       "        vertical-align: top;\n",
       "    }\n",
       "\n",
       "    .dataframe thead th {\n",
       "        text-align: right;\n",
       "    }\n",
       "</style>\n",
       "<table border=\"1\" class=\"dataframe\">\n",
       "  <thead>\n",
       "    <tr style=\"text-align: right;\">\n",
       "      <th></th>\n",
       "      <th>Age</th>\n",
       "      <th>DaysSinceCreation</th>\n",
       "      <th>AverageLeadTime</th>\n",
       "      <th>LodgingRevenue</th>\n",
       "      <th>OtherRevenue</th>\n",
       "      <th>BookingsCanceled</th>\n",
       "      <th>BookingsNoShowed</th>\n",
       "      <th>BookingsCheckedIn</th>\n",
       "      <th>PersonsNights</th>\n",
       "      <th>RoomNights</th>\n",
       "      <th>...</th>\n",
       "      <th>SRAwayFromElevator</th>\n",
       "      <th>SRNoAlcoholInMiniBar</th>\n",
       "      <th>SRQuietRoom</th>\n",
       "      <th>MarketSegment_Complementary</th>\n",
       "      <th>MarketSegment_Corporate</th>\n",
       "      <th>MarketSegment_Direct</th>\n",
       "      <th>MarketSegment_Groups</th>\n",
       "      <th>MarketSegment_Other</th>\n",
       "      <th>MarketSegment_Travel Agent/Operator</th>\n",
       "      <th>CustomerSegmentation</th>\n",
       "    </tr>\n",
       "  </thead>\n",
       "  <tbody>\n",
       "    <tr>\n",
       "      <th>0</th>\n",
       "      <td>31.0</td>\n",
       "      <td>794</td>\n",
       "      <td>7.0</td>\n",
       "      <td>452.0</td>\n",
       "      <td>34.0</td>\n",
       "      <td>0</td>\n",
       "      <td>0</td>\n",
       "      <td>1</td>\n",
       "      <td>4</td>\n",
       "      <td>4</td>\n",
       "      <td>...</td>\n",
       "      <td>0</td>\n",
       "      <td>0</td>\n",
       "      <td>0</td>\n",
       "      <td>0</td>\n",
       "      <td>0</td>\n",
       "      <td>1</td>\n",
       "      <td>0</td>\n",
       "      <td>0</td>\n",
       "      <td>0</td>\n",
       "      <td>4</td>\n",
       "    </tr>\n",
       "    <tr>\n",
       "      <th>1</th>\n",
       "      <td>30.0</td>\n",
       "      <td>728</td>\n",
       "      <td>16.0</td>\n",
       "      <td>408.0</td>\n",
       "      <td>92.0</td>\n",
       "      <td>0</td>\n",
       "      <td>0</td>\n",
       "      <td>1</td>\n",
       "      <td>8</td>\n",
       "      <td>4</td>\n",
       "      <td>...</td>\n",
       "      <td>0</td>\n",
       "      <td>0</td>\n",
       "      <td>1</td>\n",
       "      <td>0</td>\n",
       "      <td>0</td>\n",
       "      <td>0</td>\n",
       "      <td>0</td>\n",
       "      <td>1</td>\n",
       "      <td>0</td>\n",
       "      <td>4</td>\n",
       "    </tr>\n",
       "    <tr>\n",
       "      <th>2</th>\n",
       "      <td>63.0</td>\n",
       "      <td>85</td>\n",
       "      <td>0.0</td>\n",
       "      <td>0.0</td>\n",
       "      <td>0.0</td>\n",
       "      <td>0</td>\n",
       "      <td>0</td>\n",
       "      <td>0</td>\n",
       "      <td>0</td>\n",
       "      <td>0</td>\n",
       "      <td>...</td>\n",
       "      <td>0</td>\n",
       "      <td>0</td>\n",
       "      <td>0</td>\n",
       "      <td>0</td>\n",
       "      <td>0</td>\n",
       "      <td>1</td>\n",
       "      <td>0</td>\n",
       "      <td>0</td>\n",
       "      <td>0</td>\n",
       "      <td>1</td>\n",
       "    </tr>\n",
       "    <tr>\n",
       "      <th>3</th>\n",
       "      <td>21.0</td>\n",
       "      <td>2</td>\n",
       "      <td>0.0</td>\n",
       "      <td>0.0</td>\n",
       "      <td>0.0</td>\n",
       "      <td>0</td>\n",
       "      <td>0</td>\n",
       "      <td>0</td>\n",
       "      <td>0</td>\n",
       "      <td>0</td>\n",
       "      <td>...</td>\n",
       "      <td>0</td>\n",
       "      <td>0</td>\n",
       "      <td>0</td>\n",
       "      <td>0</td>\n",
       "      <td>0</td>\n",
       "      <td>0</td>\n",
       "      <td>0</td>\n",
       "      <td>0</td>\n",
       "      <td>1</td>\n",
       "      <td>1</td>\n",
       "    </tr>\n",
       "    <tr>\n",
       "      <th>4</th>\n",
       "      <td>48.0</td>\n",
       "      <td>808</td>\n",
       "      <td>57.0</td>\n",
       "      <td>299.4</td>\n",
       "      <td>111.6</td>\n",
       "      <td>0</td>\n",
       "      <td>0</td>\n",
       "      <td>1</td>\n",
       "      <td>6</td>\n",
       "      <td>2</td>\n",
       "      <td>...</td>\n",
       "      <td>0</td>\n",
       "      <td>0</td>\n",
       "      <td>0</td>\n",
       "      <td>0</td>\n",
       "      <td>0</td>\n",
       "      <td>0</td>\n",
       "      <td>0</td>\n",
       "      <td>1</td>\n",
       "      <td>0</td>\n",
       "      <td>9</td>\n",
       "    </tr>\n",
       "  </tbody>\n",
       "</table>\n",
       "<p>5 rows × 32 columns</p>\n",
       "</div>"
      ],
      "text/plain": [
       "    Age  DaysSinceCreation  AverageLeadTime  LodgingRevenue  OtherRevenue  \\\n",
       "0  31.0                794              7.0           452.0          34.0   \n",
       "1  30.0                728             16.0           408.0          92.0   \n",
       "2  63.0                 85              0.0             0.0           0.0   \n",
       "3  21.0                  2              0.0             0.0           0.0   \n",
       "4  48.0                808             57.0           299.4         111.6   \n",
       "\n",
       "   BookingsCanceled  BookingsNoShowed  BookingsCheckedIn  PersonsNights  \\\n",
       "0                 0                 0                  1              4   \n",
       "1                 0                 0                  1              8   \n",
       "2                 0                 0                  0              0   \n",
       "3                 0                 0                  0              0   \n",
       "4                 0                 0                  1              6   \n",
       "\n",
       "   RoomNights  ...  SRAwayFromElevator  SRNoAlcoholInMiniBar  SRQuietRoom  \\\n",
       "0           4  ...                   0                     0            0   \n",
       "1           4  ...                   0                     0            1   \n",
       "2           0  ...                   0                     0            0   \n",
       "3           0  ...                   0                     0            0   \n",
       "4           2  ...                   0                     0            0   \n",
       "\n",
       "   MarketSegment_Complementary  MarketSegment_Corporate  MarketSegment_Direct  \\\n",
       "0                            0                        0                     1   \n",
       "1                            0                        0                     0   \n",
       "2                            0                        0                     1   \n",
       "3                            0                        0                     0   \n",
       "4                            0                        0                     0   \n",
       "\n",
       "   MarketSegment_Groups  MarketSegment_Other  \\\n",
       "0                     0                    0   \n",
       "1                     0                    1   \n",
       "2                     0                    0   \n",
       "3                     0                    0   \n",
       "4                     0                    1   \n",
       "\n",
       "   MarketSegment_Travel Agent/Operator  CustomerSegmentation  \n",
       "0                                    0                     4  \n",
       "1                                    0                     4  \n",
       "2                                    0                     1  \n",
       "3                                    1                     1  \n",
       "4                                    0                     9  \n",
       "\n",
       "[5 rows x 32 columns]"
      ]
     },
     "execution_count": 3,
     "metadata": {},
     "output_type": "execute_result"
    }
   ],
   "source": [
    "df.head()"
   ]
  },
  {
   "cell_type": "markdown",
   "id": "f7055e90",
   "metadata": {},
   "source": [
    "### Split Dataset\n"
   ]
  },
  {
   "cell_type": "code",
   "execution_count": 4,
   "id": "cc637e87",
   "metadata": {},
   "outputs": [],
   "source": [
    "x = df.drop(columns = [\"CustomerSegmentation\"])\n",
    "y = df[\"CustomerSegmentation\"]"
   ]
  },
  {
   "cell_type": "code",
   "execution_count": 5,
   "id": "0b9a910b",
   "metadata": {},
   "outputs": [],
   "source": [
    "x_train, x_temp, y_train, y_temp = train_test_split(x,y,\n",
    "                                                    stratify=y,\n",
    "                                                    test_size = ClassificationModelsHyperparameters.TEST_SIZE,\n",
    "                                                    random_state = ClassificationModelsHyperparameters.RANDOM_STATE)\n",
    "x_val, x_test, y_val, y_test = train_test_split(x_temp, y_temp,\n",
    "                                                test_size = 0.5, stratify=y_temp,\n",
    "                                                random_state= ClassificationModelsHyperparameters.RANDOM_STATE)"
   ]
  },
  {
   "cell_type": "code",
   "execution_count": 6,
   "id": "a9ab16a0",
   "metadata": {},
   "outputs": [
    {
     "name": "stdout",
     "output_type": "stream",
     "text": [
      "Training Set: (7000, 31), (7000,)\n",
      "Validation Set: (1500, 31), (1500,)\n",
      "Testing Set: (1500, 31), (1500,)\n"
     ]
    }
   ],
   "source": [
    "# Shapes\n",
    "print(f\"Training Set: {x_train.shape}, {y_train.shape}\")\n",
    "print(f\"Validation Set: {x_val.shape}, {y_val.shape}\")\n",
    "print(f\"Testing Set: {x_test.shape}, {y_test.shape}\")"
   ]
  },
  {
   "cell_type": "markdown",
   "id": "57e9e67c",
   "metadata": {},
   "source": [
    "### Data Scaling "
   ]
  },
  {
   "cell_type": "code",
   "execution_count": 11,
   "id": "c373dff2",
   "metadata": {},
   "outputs": [],
   "source": [
    "scaler = StandardScaler()\n",
    "x_train_scaled = scaler.fit_transform(x_train)\n",
    "x_valid_scaled = scaler.transform(x_val)\n",
    "x_test_scaled = scaler.transform(x_test)"
   ]
  },
  {
   "cell_type": "markdown",
   "id": "516262d5",
   "metadata": {},
   "source": [
    "### Random Forest Algorithm "
   ]
  },
  {
   "cell_type": "code",
   "execution_count": 13,
   "id": "05907eec",
   "metadata": {},
   "outputs": [
    {
     "name": "stdout",
     "output_type": "stream",
     "text": [
      "Random Forest Train Accuracy: 1.0\n",
      "Random Forest Valid Accuracy: 0.968\n",
      "Random Forest Test Accuracy: 0.964\n"
     ]
    }
   ],
   "source": [
    "random_forest = RandomForestClassifier(n_estimators=ClassificationModelsHyperparameters.RANDOM_FOREST_N_ESTIMATORS, random_state=ClassificationModelsHyperparameters.RANDOM_STATE)\n",
    "random_forest.fit(x_train_scaled, y_train)\n",
    "y_pred = random_forest.predict(x_valid_scaled)\n",
    "print(f\"Random Forest Train Accuracy: {random_forest.score(x_train_scaled, y_train)}\")\n",
    "print(f\"Random Forest Valid Accuracy: {random_forest.score(x_valid_scaled, y_val)}\")\n",
    "print(f\"Random Forest Test Accuracy: {random_forest.score(x_test_scaled, y_test)}\")"
   ]
  },
  {
   "cell_type": "code",
   "execution_count": null,
   "id": "c5c04d2b",
   "metadata": {},
   "outputs": [],
   "source": []
  }
 ],
 "metadata": {
  "kernelspec": {
   "display_name": "hotel-atlas",
   "language": "python",
   "name": "python3"
  },
  "language_info": {
   "codemirror_mode": {
    "name": "ipython",
    "version": 3
   },
   "file_extension": ".py",
   "mimetype": "text/x-python",
   "name": "python",
   "nbconvert_exporter": "python",
   "pygments_lexer": "ipython3",
   "version": "3.10.18"
  }
 },
 "nbformat": 4,
 "nbformat_minor": 5
}
